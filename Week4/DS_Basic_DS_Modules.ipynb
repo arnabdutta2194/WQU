{
 "cells": [
  {
   "cell_type": "code",
   "execution_count": 98,
   "metadata": {
    "init_cell": true
   },
   "outputs": [],
   "source": [
    "%logstop\n",
    "%logstart -rtq ~/.logs/DS_Basic_DS_Modules.py append\n",
    "import seaborn as sns\n",
    "sns.set()"
   ]
  },
  {
   "cell_type": "code",
   "execution_count": 3,
   "metadata": {},
   "outputs": [],
   "source": [
    "import expectexception"
   ]
  },
  {
   "cell_type": "markdown",
   "metadata": {},
   "source": [
    "# Basic data tools: NumPy, Matplotlib, Pandas\n",
    "\n",
    "Python is a powerful and flexible programming language, but it doesn't have built-in tools for mathematical analysis or data visualization. For most data analysis we will rely on some helpful libraries. We'll explore three libraries that are very common for data analysis and visualization."
   ]
  },
  {
   "cell_type": "markdown",
   "metadata": {},
   "source": [
    "## NumPy\n",
    "\n",
    "First among these is NumPy. The main NumPy features are three-fold: its mathematical functions (e.g. `sin`, `log`, `floor`), its `random` submodule (useful for random sampling), and the NumPy `ndarray` object.\n",
    "\n",
    "A NumPy array is similar to a mathematical n-dimensional matrix. For example, \n",
    "\n",
    "$$\\begin{bmatrix}\n",
    "    x_{11} & x_{12} & x_{13} & \\dots  & x_{1n} \\\\\n",
    "    x_{21} & x_{22} & x_{23} & \\dots  & x_{2n} \\\\\n",
    "    \\vdots & \\vdots & \\vdots & \\ddots & \\vdots \\\\\n",
    "    x_{d1} & x_{d2} & x_{d3} & \\dots  & x_{dn}\n",
    "\\end{bmatrix}$$\n",
    "\n",
    "A NumPy array could be 1-dimensional (e.g. [1, 5, 20, 34, ...]), 2-dimensional (as above), or many dimensions. It's important to note that all the rows and columns of the 2-dimensional array are the same length. That will be true for all dimensions of arrays.\n",
    "\n",
    "Let's contrast this with lists."
   ]
  },
  {
   "cell_type": "code",
   "execution_count": 4,
   "metadata": {},
   "outputs": [],
   "source": [
    "# to access NumPy, we have to import it\n",
    "import numpy as np"
   ]
  },
  {
   "cell_type": "code",
   "execution_count": 5,
   "metadata": {},
   "outputs": [
    {
     "name": "stdout",
     "output_type": "stream",
     "text": [
      "[[1, 2, 3], [4, 5, 6], [7, 8, 9]]\n"
     ]
    }
   ],
   "source": [
    "list_of_lists = [[1, 2, 3], [4, 5, 6], [7, 8, 9]]\n",
    "print(list_of_lists)"
   ]
  },
  {
   "cell_type": "code",
   "execution_count": 6,
   "metadata": {},
   "outputs": [
    {
     "name": "stdout",
     "output_type": "stream",
     "text": [
      "[[1 2 3]\n",
      " [4 5 6]\n",
      " [7 8 9]]\n"
     ]
    }
   ],
   "source": [
    "an_array = np.array(list_of_lists)\n",
    "print(an_array)"
   ]
  },
  {
   "cell_type": "code",
   "execution_count": 7,
   "metadata": {},
   "outputs": [
    {
     "name": "stdout",
     "output_type": "stream",
     "text": [
      "[[1, 2], [3, 4, 5], [6, 7, 8, 9]]\n"
     ]
    }
   ],
   "source": [
    "non_rectangular = [[1, 2], [3, 4, 5], [6, 7, 8, 9]]\n",
    "print(non_rectangular)"
   ]
  },
  {
   "cell_type": "code",
   "execution_count": 8,
   "metadata": {},
   "outputs": [
    {
     "name": "stdout",
     "output_type": "stream",
     "text": [
      "[list([1, 2]) list([3, 4, 5]) list([6, 7, 8, 9])]\n"
     ]
    },
    {
     "name": "stderr",
     "output_type": "stream",
     "text": [
      "<ipython-input-8-4acebf048af6>:1: VisibleDeprecationWarning: Creating an ndarray from ragged nested sequences (which is a list-or-tuple of lists-or-tuples-or ndarrays with different lengths or shapes) is deprecated. If you meant to do this, you must specify 'dtype=object' when creating the ndarray\n",
      "  non_rectangular_array = np.array(non_rectangular)\n"
     ]
    }
   ],
   "source": [
    "non_rectangular_array = np.array(non_rectangular)\n",
    "print(non_rectangular_array)"
   ]
  },
  {
   "cell_type": "markdown",
   "metadata": {},
   "source": [
    "Why did these print differently? Let's investigate their _shape_ and _data type_ (`dtype`)."
   ]
  },
  {
   "cell_type": "code",
   "execution_count": 9,
   "metadata": {},
   "outputs": [
    {
     "name": "stdout",
     "output_type": "stream",
     "text": [
      "(3, 3) int64\n",
      "(3,) object\n"
     ]
    }
   ],
   "source": [
    "print(an_array.shape, an_array.dtype)\n",
    "print(non_rectangular_array.shape, non_rectangular_array.dtype)"
   ]
  },
  {
   "cell_type": "markdown",
   "metadata": {},
   "source": [
    "The first case, `an_array`, is a 2-dimensional 3x3 array (of integers). In contrast, `non_rectangular_array` is a 1-dimensional length 3 array (of _objects_, namely `list` objects).\n",
    "\n",
    "We can also create a variety of arrays with NumPy's convenience functions."
   ]
  },
  {
   "cell_type": "code",
   "execution_count": 10,
   "metadata": {},
   "outputs": [
    {
     "data": {
      "text/plain": [
       "array([ 1.,  2.,  3.,  4.,  5.,  6.,  7.,  8.,  9., 10.])"
      ]
     },
     "execution_count": 10,
     "metadata": {},
     "output_type": "execute_result"
    }
   ],
   "source": [
    "np.linspace(1, 10, 10)"
   ]
  },
  {
   "cell_type": "code",
   "execution_count": 11,
   "metadata": {},
   "outputs": [
    {
     "data": {
      "text/plain": [
       "array([1, 2, 3, 4, 5, 6, 7, 8, 9])"
      ]
     },
     "execution_count": 11,
     "metadata": {},
     "output_type": "execute_result"
    }
   ],
   "source": [
    "np.arange(1, 10, 1) "
   ]
  },
  {
   "cell_type": "code",
   "execution_count": 12,
   "metadata": {},
   "outputs": [
    {
     "data": {
      "text/plain": [
       "array([1.e+01, 1.e+02, 1.e+03, 1.e+04, 1.e+05, 1.e+06, 1.e+07, 1.e+08,\n",
       "       1.e+09, 1.e+10])"
      ]
     },
     "execution_count": 12,
     "metadata": {},
     "output_type": "execute_result"
    }
   ],
   "source": [
    "np.logspace(1, 10, 10)"
   ]
  },
  {
   "cell_type": "code",
   "execution_count": 13,
   "metadata": {},
   "outputs": [
    {
     "data": {
      "text/plain": [
       "array([0., 0., 0., 0., 0., 0., 0., 0., 0., 0.])"
      ]
     },
     "execution_count": 13,
     "metadata": {},
     "output_type": "execute_result"
    }
   ],
   "source": [
    "np.zeros(10)"
   ]
  },
  {
   "cell_type": "code",
   "execution_count": 14,
   "metadata": {},
   "outputs": [
    {
     "data": {
      "text/plain": [
       "array([[1, 0, 0, 0],\n",
       "       [0, 2, 0, 0],\n",
       "       [0, 0, 3, 0],\n",
       "       [0, 0, 0, 4]])"
      ]
     },
     "execution_count": 14,
     "metadata": {},
     "output_type": "execute_result"
    }
   ],
   "source": [
    "np.diag([1,2,3,4])"
   ]
  },
  {
   "cell_type": "code",
   "execution_count": 15,
   "metadata": {},
   "outputs": [
    {
     "data": {
      "text/plain": [
       "array([[1., 0., 0., 0., 0.],\n",
       "       [0., 1., 0., 0., 0.],\n",
       "       [0., 0., 1., 0., 0.],\n",
       "       [0., 0., 0., 1., 0.],\n",
       "       [0., 0., 0., 0., 1.]])"
      ]
     },
     "execution_count": 15,
     "metadata": {},
     "output_type": "execute_result"
    }
   ],
   "source": [
    "np.eye(5)"
   ]
  },
  {
   "cell_type": "markdown",
   "metadata": {},
   "source": [
    "We can also convert the `dtype` of an array after creation."
   ]
  },
  {
   "cell_type": "code",
   "execution_count": 16,
   "metadata": {},
   "outputs": [
    {
     "name": "stdout",
     "output_type": "stream",
     "text": [
      "float64\n",
      "int64\n"
     ]
    }
   ],
   "source": [
    "print(np.logspace(1, 10, 10).dtype)\n",
    "print(np.logspace(1, 10, 10).astype(int).dtype)"
   ]
  },
  {
   "cell_type": "code",
   "execution_count": 17,
   "metadata": {},
   "outputs": [
    {
     "data": {
      "text/plain": [
       "array([0., 1.])"
      ]
     },
     "execution_count": 17,
     "metadata": {},
     "output_type": "execute_result"
    }
   ],
   "source": [
    "#Boolean to Float Array\n",
    "np.array([False,True]).astype(float)"
   ]
  },
  {
   "cell_type": "markdown",
   "metadata": {},
   "source": [
    "Why does any of this matter?\n",
    "\n",
    "Arrays are often more efficient in terms of code as well as computational resources for certain calculations. Computationally this efficiency comes from the fact that we pre-allocate a contiguous block of memory for the results of our computation.\n",
    "\n",
    "To explore the advantages in code, let's try to do some math on these numbers.\n",
    "\n",
    "First let's simply calculate the sum of all the numbers and look at the differences in the necessary code for `list_of_lists`, `an_array`, and `non_rectangular_array`."
   ]
  },
  {
   "cell_type": "code",
   "execution_count": 18,
   "metadata": {},
   "outputs": [
    {
     "data": {
      "text/plain": [
       "[[1, 2, 3], [4, 5, 6], [7, 8, 9]]"
      ]
     },
     "execution_count": 18,
     "metadata": {},
     "output_type": "execute_result"
    }
   ],
   "source": [
    "list_of_lists"
   ]
  },
  {
   "cell_type": "code",
   "execution_count": 19,
   "metadata": {},
   "outputs": [
    {
     "name": "stdout",
     "output_type": "stream",
     "text": [
      "45\n",
      "45\n"
     ]
    }
   ],
   "source": [
    "print(sum([sum(inner_list) for inner_list in list_of_lists]))\n",
    "print(an_array.sum()) "
   ]
  },
  {
   "cell_type": "code",
   "execution_count": 20,
   "metadata": {},
   "outputs": [
    {
     "data": {
      "text/plain": [
       "array([[1, 2, 3],\n",
       "       [4, 5, 6],\n",
       "       [7, 8, 9]])"
      ]
     },
     "execution_count": 20,
     "metadata": {},
     "output_type": "execute_result"
    }
   ],
   "source": [
    "an_array"
   ]
  },
  {
   "cell_type": "code",
   "execution_count": 21,
   "metadata": {},
   "outputs": [
    {
     "data": {
      "text/plain": [
       "[6, 15, 24]"
      ]
     },
     "execution_count": 21,
     "metadata": {},
     "output_type": "execute_result"
    }
   ],
   "source": [
    "#Sum of Columns Will Have Iterations\n",
    "[sum(inner_list) for inner_list in list_of_lists]"
   ]
  },
  {
   "cell_type": "code",
   "execution_count": 22,
   "metadata": {},
   "outputs": [
    {
     "data": {
      "text/plain": [
       "array([ 6, 15, 24])"
      ]
     },
     "execution_count": 22,
     "metadata": {},
     "output_type": "execute_result"
    }
   ],
   "source": [
    "an_array.sum(axis=1)"
   ]
  },
  {
   "cell_type": "code",
   "execution_count": 23,
   "metadata": {},
   "outputs": [
    {
     "data": {
      "text/plain": [
       "array([12, 15, 18])"
      ]
     },
     "execution_count": 23,
     "metadata": {},
     "output_type": "execute_result"
    }
   ],
   "source": [
    "an_array.sum(axis=0)"
   ]
  },
  {
   "cell_type": "markdown",
   "metadata": {},
   "source": [
    "Summing the numbers in an array is much easier than for a list of lists. We don't have to dig into a hierarchy of lists, we just use the `sum` method of the `ndarray`. Does this still work for `non_rectangular_array`?"
   ]
  },
  {
   "cell_type": "code",
   "execution_count": 24,
   "metadata": {},
   "outputs": [
    {
     "name": "stdout",
     "output_type": "stream",
     "text": [
      "[1, 2, 3, 4, 5, 6, 7, 8, 9]\n"
     ]
    }
   ],
   "source": [
    "# what happens here?\n",
    "print(non_rectangular_array.sum())"
   ]
  },
  {
   "cell_type": "markdown",
   "metadata": {},
   "source": [
    "Remember `non_rectangular_array` is a 1-dimensional array of `list` objects. The `sum` method tries to add them together: first list + second list + third list. Addition of lists results in _concatenation_."
   ]
  },
  {
   "cell_type": "code",
   "execution_count": 25,
   "metadata": {},
   "outputs": [
    {
     "name": "stdout",
     "output_type": "stream",
     "text": [
      "[1, 2, 3, 4, 5, 6, 7, 8, 9]\n"
     ]
    }
   ],
   "source": [
    "# concatenate three lists\n",
    "print([1, 2] + [3, 4, 5] + [6, 7, 8, 9])"
   ]
  },
  {
   "cell_type": "markdown",
   "metadata": {},
   "source": [
    "The contrast becomes even more clear when we try to sum rows or columns individually."
   ]
  },
  {
   "cell_type": "code",
   "execution_count": 26,
   "metadata": {},
   "outputs": [
    {
     "name": "stdout",
     "output_type": "stream",
     "text": [
      "Array row sums:  [ 6 15 24]\n",
      "Array column sums:  [12 15 18]\n"
     ]
    }
   ],
   "source": [
    "print('Array row sums: ', an_array.sum(axis=1))\n",
    "print('Array column sums: ', an_array.sum(axis=0))"
   ]
  },
  {
   "cell_type": "code",
   "execution_count": 27,
   "metadata": {},
   "outputs": [
    {
     "name": "stdout",
     "output_type": "stream",
     "text": [
      "List of list row sums:  [6, 15, 24]\n",
      "List of list column sums:  [12, 15, 18]\n"
     ]
    }
   ],
   "source": [
    "print('List of list row sums: ', [sum(inner_list) for inner_list in list_of_lists])\n",
    "\n",
    "def column_sum(list_of_lists):\n",
    "    running_sums = [0] * len(list_of_lists[0])\n",
    "    for inner_list in list_of_lists:\n",
    "        for i, number in enumerate(inner_list):\n",
    "            running_sums[i] += number\n",
    "            \n",
    "    return running_sums\n",
    "\n",
    "print('List of list column sums: ', column_sum(list_of_lists))"
   ]
  },
  {
   "cell_type": "markdown",
   "metadata": {},
   "source": [
    "Generally it is much more natural to do mathematical operations with arrays than lists."
   ]
  },
  {
   "cell_type": "code",
   "execution_count": 28,
   "metadata": {},
   "outputs": [
    {
     "name": "stdout",
     "output_type": "stream",
     "text": [
      "[ 6  7  8  9 10]\n",
      "[ 5 10 15 20 25]\n",
      "[0.2 0.4 0.6 0.8 1. ]\n"
     ]
    }
   ],
   "source": [
    "a = np.array([1, 2, 3, 4, 5])\n",
    "print(a + 5) # add a scalar\n",
    "print(a * 5) # multiply by a scalar\n",
    "print(a / 5) # divide by a scalar (note the float!)"
   ]
  },
  {
   "cell_type": "code",
   "execution_count": 29,
   "metadata": {},
   "outputs": [
    {
     "name": "stdout",
     "output_type": "stream",
     "text": [
      "[ 3  5  7  9 11]\n",
      "[ 2  6 12 20 30]\n",
      "[0.5        0.66666667 0.75       0.8        0.83333333]\n"
     ]
    }
   ],
   "source": [
    "b = a + 1\n",
    "print(a + b) # add together two arrays\n",
    "print(a * b) # multiply two arrays (element-wise)\n",
    "print(a / b.astype(float)) # divide two arrays (element-wise)"
   ]
  },
  {
   "cell_type": "markdown",
   "metadata": {},
   "source": [
    "Arrays can also be used for linear algebra, acting as vectors, matrices, tensors, etc."
   ]
  },
  {
   "cell_type": "code",
   "execution_count": 30,
   "metadata": {},
   "outputs": [
    {
     "data": {
      "text/plain": [
       "array([1, 2, 3, 4, 5])"
      ]
     },
     "execution_count": 30,
     "metadata": {},
     "output_type": "execute_result"
    }
   ],
   "source": [
    "a"
   ]
  },
  {
   "cell_type": "code",
   "execution_count": 31,
   "metadata": {},
   "outputs": [
    {
     "data": {
      "text/plain": [
       "array([2, 3, 4, 5, 6])"
      ]
     },
     "execution_count": 31,
     "metadata": {},
     "output_type": "execute_result"
    }
   ],
   "source": [
    "b"
   ]
  },
  {
   "cell_type": "code",
   "execution_count": 32,
   "metadata": {},
   "outputs": [
    {
     "name": "stdout",
     "output_type": "stream",
     "text": [
      "70\n",
      "[[ 2  3  4  5  6]\n",
      " [ 4  6  8 10 12]\n",
      " [ 6  9 12 15 18]\n",
      " [ 8 12 16 20 24]\n",
      " [10 15 20 25 30]]\n"
     ]
    }
   ],
   "source": [
    "print(np.dot(a, b)) # inner product of two arrays\n",
    "print(np.outer(a, b)) # outer product of two arrays"
   ]
  },
  {
   "cell_type": "markdown",
   "metadata": {},
   "source": [
    "Arrays have a lot to offer us in terms of representing and analyzing data, since we can easily apply mathematical functions to data sets or sections of data sets. Most of the time we won't run into any trouble using arrays, but it's good to be mindful of the restrictions around shape and datatype.\n",
    "\n",
    "These restrictions around `shape` and `dtype` allow the `ndarray` objects to be much more performant compared to a general Python `list`.  There are few reasons for this, but the main two result from the typed nature of the `ndarray`, as this allows contiguous memory storage and consistent function lookup.  When a Python `list` is summed, Python needs to figure out at runtime the correct way in which to add each element of the list together.  When an `ndarray` is summed, `NumPy` already knows the type of the each element (and they are consistent), thus it can sum them without checking the correct add function for each element.\n",
    "\n",
    "Lets see this in action by doing some basic profiling.  First we will create a list of 100000 random elements and then time the sum function."
   ]
  },
  {
   "cell_type": "code",
   "execution_count": 33,
   "metadata": {},
   "outputs": [],
   "source": [
    "time_list = [np.random.random() for _ in range(100000)]\n",
    "time_arr = np.array(time_list)"
   ]
  },
  {
   "cell_type": "code",
   "execution_count": 34,
   "metadata": {},
   "outputs": [
    {
     "name": "stdout",
     "output_type": "stream",
     "text": [
      "652 µs ± 81.4 µs per loop (mean ± std. dev. of 7 runs, 1000 loops each)\n"
     ]
    }
   ],
   "source": [
    "%%timeit \n",
    "sum(time_list)"
   ]
  },
  {
   "cell_type": "code",
   "execution_count": 35,
   "metadata": {},
   "outputs": [
    {
     "name": "stdout",
     "output_type": "stream",
     "text": [
      "52.8 µs ± 2.97 µs per loop (mean ± std. dev. of 7 runs, 10000 loops each)\n"
     ]
    }
   ],
   "source": [
    "%%timeit\n",
    "np.sum(time_arr)"
   ]
  },
  {
   "cell_type": "markdown",
   "metadata": {},
   "source": [
    "### Universal functions\n",
    "\n",
    "`NumPy` defines a `ufunc` which allows it to efficiently run functions over arrays.  Many of these functions are built in, such as `np.cos`, and implemented in highly performance compiled `C` code.  These functions can perform `broadcasting` which allows them to automatically handle operations between arrays of different shapes, for example two arrays with the same shape, or an array and a scalar."
   ]
  },
  {
   "cell_type": "markdown",
   "metadata": {},
   "source": [
    "### Changing Shape\n",
    "\n",
    "Often we will want to take arrays that are one shape and transform them to a different shape more amenable to a specific operation."
   ]
  },
  {
   "cell_type": "code",
   "execution_count": 36,
   "metadata": {},
   "outputs": [],
   "source": [
    "mat = np.random.rand(20, 10)"
   ]
  },
  {
   "cell_type": "code",
   "execution_count": 37,
   "metadata": {},
   "outputs": [
    {
     "data": {
      "text/plain": [
       "array([[0.33563135, 0.18119902, 0.90079273, 0.45330777, 0.81073502,\n",
       "        0.60894448, 0.5087079 , 0.41191653, 0.10527886, 0.19633917],\n",
       "       [0.25093936, 0.75011763, 0.38185572, 0.39597109, 0.40402804,\n",
       "        0.27172619, 0.66833727, 0.88427278, 0.52472329, 0.6292168 ],\n",
       "       [0.89479958, 0.22148821, 0.86404456, 0.29761074, 0.01258377,\n",
       "        0.51762038, 0.55625767, 0.98091572, 0.42864816, 0.68621976],\n",
       "       [0.33340618, 0.24295016, 0.42552736, 0.56954292, 0.91260089,\n",
       "        0.59569756, 0.31632152, 0.49791239, 0.780362  , 0.39524754],\n",
       "       [0.08712467, 0.71708014, 0.4257744 , 0.1436448 , 0.09133788,\n",
       "        0.46002012, 0.28901838, 0.30270985, 0.29158149, 0.50395989],\n",
       "       [0.84091917, 0.17789353, 0.56838399, 0.03122065, 0.09091004,\n",
       "        0.29318494, 0.82491055, 0.93496292, 0.94538877, 0.10125131],\n",
       "       [0.90991414, 0.9986568 , 0.04105504, 0.30569387, 0.57815122,\n",
       "        0.70061904, 0.34233229, 0.75149735, 0.10232433, 0.94155281],\n",
       "       [0.79672188, 0.34417176, 0.06682109, 0.42900081, 0.60912664,\n",
       "        0.68710262, 0.98184602, 0.24194193, 0.21723775, 0.9378548 ],\n",
       "       [0.5934975 , 0.19997849, 0.2140818 , 0.02306868, 0.35397366,\n",
       "        0.65294907, 0.10457548, 0.89338146, 0.23124804, 0.237845  ],\n",
       "       [0.91718232, 0.77963183, 0.72199363, 0.29084575, 0.77928228,\n",
       "        0.65427889, 0.68173918, 0.18780136, 0.64147877, 0.18492061],\n",
       "       [0.43585178, 0.28706118, 0.46748821, 0.24447966, 0.68418945,\n",
       "        0.54649602, 0.34738967, 0.82073536, 0.79769285, 0.19451869],\n",
       "       [0.23995341, 0.65935773, 0.64465899, 0.24182474, 0.78139456,\n",
       "        0.41822842, 0.45352109, 0.70852087, 0.02318531, 0.88070172],\n",
       "       [0.26929377, 0.44455071, 0.26202155, 0.62767425, 0.56710785,\n",
       "        0.22779413, 0.52613245, 0.98970449, 0.7021064 , 0.76685648],\n",
       "       [0.63279138, 0.91988979, 0.06676224, 0.14350122, 0.46373075,\n",
       "        0.67030935, 0.60641874, 0.67403676, 0.885557  , 0.11108519],\n",
       "       [0.52502442, 0.93199026, 0.91362757, 0.69748634, 0.27449627,\n",
       "        0.38176988, 0.3010969 , 0.51813646, 0.04243722, 0.37379302],\n",
       "       [0.74447355, 0.20744784, 0.61983429, 0.95533365, 0.06808006,\n",
       "        0.09264004, 0.21301497, 0.50444152, 0.55952544, 0.27470818],\n",
       "       [0.46608721, 0.95066118, 0.04856023, 0.30580363, 0.5926386 ,\n",
       "        0.64648264, 0.36357432, 0.99960612, 0.690894  , 0.12410003],\n",
       "       [0.13804833, 0.48806823, 0.88323299, 0.97307508, 0.11835565,\n",
       "        0.57273843, 0.46144648, 0.22147604, 0.23121841, 0.03913542],\n",
       "       [0.99398809, 0.45355666, 0.67447591, 0.83487892, 0.42471207,\n",
       "        0.87407901, 0.07477384, 0.50649471, 0.28313286, 0.77254629],\n",
       "       [0.61489696, 0.5147157 , 0.48273451, 0.42802216, 0.64128619,\n",
       "        0.86573195, 0.51642424, 0.42656227, 0.60441763, 0.01939308]])"
      ]
     },
     "execution_count": 37,
     "metadata": {},
     "output_type": "execute_result"
    }
   ],
   "source": [
    "mat"
   ]
  },
  {
   "cell_type": "code",
   "execution_count": 38,
   "metadata": {},
   "outputs": [
    {
     "data": {
      "text/plain": [
       "(40, 5)"
      ]
     },
     "execution_count": 38,
     "metadata": {},
     "output_type": "execute_result"
    }
   ],
   "source": [
    "mat.reshape(40, 5).shape"
   ]
  },
  {
   "cell_type": "code",
   "execution_count": 39,
   "metadata": {},
   "outputs": [
    {
     "data": {
      "text/plain": [
       "array([[0.33563135, 0.18119902, 0.90079273, 0.45330777, 0.81073502],\n",
       "       [0.60894448, 0.5087079 , 0.41191653, 0.10527886, 0.19633917],\n",
       "       [0.25093936, 0.75011763, 0.38185572, 0.39597109, 0.40402804],\n",
       "       [0.27172619, 0.66833727, 0.88427278, 0.52472329, 0.6292168 ],\n",
       "       [0.89479958, 0.22148821, 0.86404456, 0.29761074, 0.01258377],\n",
       "       [0.51762038, 0.55625767, 0.98091572, 0.42864816, 0.68621976],\n",
       "       [0.33340618, 0.24295016, 0.42552736, 0.56954292, 0.91260089],\n",
       "       [0.59569756, 0.31632152, 0.49791239, 0.780362  , 0.39524754],\n",
       "       [0.08712467, 0.71708014, 0.4257744 , 0.1436448 , 0.09133788],\n",
       "       [0.46002012, 0.28901838, 0.30270985, 0.29158149, 0.50395989],\n",
       "       [0.84091917, 0.17789353, 0.56838399, 0.03122065, 0.09091004],\n",
       "       [0.29318494, 0.82491055, 0.93496292, 0.94538877, 0.10125131],\n",
       "       [0.90991414, 0.9986568 , 0.04105504, 0.30569387, 0.57815122],\n",
       "       [0.70061904, 0.34233229, 0.75149735, 0.10232433, 0.94155281],\n",
       "       [0.79672188, 0.34417176, 0.06682109, 0.42900081, 0.60912664],\n",
       "       [0.68710262, 0.98184602, 0.24194193, 0.21723775, 0.9378548 ],\n",
       "       [0.5934975 , 0.19997849, 0.2140818 , 0.02306868, 0.35397366],\n",
       "       [0.65294907, 0.10457548, 0.89338146, 0.23124804, 0.237845  ],\n",
       "       [0.91718232, 0.77963183, 0.72199363, 0.29084575, 0.77928228],\n",
       "       [0.65427889, 0.68173918, 0.18780136, 0.64147877, 0.18492061],\n",
       "       [0.43585178, 0.28706118, 0.46748821, 0.24447966, 0.68418945],\n",
       "       [0.54649602, 0.34738967, 0.82073536, 0.79769285, 0.19451869],\n",
       "       [0.23995341, 0.65935773, 0.64465899, 0.24182474, 0.78139456],\n",
       "       [0.41822842, 0.45352109, 0.70852087, 0.02318531, 0.88070172],\n",
       "       [0.26929377, 0.44455071, 0.26202155, 0.62767425, 0.56710785],\n",
       "       [0.22779413, 0.52613245, 0.98970449, 0.7021064 , 0.76685648],\n",
       "       [0.63279138, 0.91988979, 0.06676224, 0.14350122, 0.46373075],\n",
       "       [0.67030935, 0.60641874, 0.67403676, 0.885557  , 0.11108519],\n",
       "       [0.52502442, 0.93199026, 0.91362757, 0.69748634, 0.27449627],\n",
       "       [0.38176988, 0.3010969 , 0.51813646, 0.04243722, 0.37379302],\n",
       "       [0.74447355, 0.20744784, 0.61983429, 0.95533365, 0.06808006],\n",
       "       [0.09264004, 0.21301497, 0.50444152, 0.55952544, 0.27470818],\n",
       "       [0.46608721, 0.95066118, 0.04856023, 0.30580363, 0.5926386 ],\n",
       "       [0.64648264, 0.36357432, 0.99960612, 0.690894  , 0.12410003],\n",
       "       [0.13804833, 0.48806823, 0.88323299, 0.97307508, 0.11835565],\n",
       "       [0.57273843, 0.46144648, 0.22147604, 0.23121841, 0.03913542],\n",
       "       [0.99398809, 0.45355666, 0.67447591, 0.83487892, 0.42471207],\n",
       "       [0.87407901, 0.07477384, 0.50649471, 0.28313286, 0.77254629],\n",
       "       [0.61489696, 0.5147157 , 0.48273451, 0.42802216, 0.64128619],\n",
       "       [0.86573195, 0.51642424, 0.42656227, 0.60441763, 0.01939308]])"
      ]
     },
     "execution_count": 39,
     "metadata": {},
     "output_type": "execute_result"
    }
   ],
   "source": [
    "mat.reshape(40, 5)"
   ]
  },
  {
   "cell_type": "code",
   "execution_count": 40,
   "metadata": {},
   "outputs": [
    {
     "name": "stdout",
     "output_type": "stream",
     "text": [
      "\u001b[0;31m---------------------------------------------------------------------------\u001b[0m\n",
      "\u001b[0;31mValueError\u001b[0m                                Traceback (most recent call last)\n",
      "\u001b[0;32m<ipython-input-40-61df77923c88>\u001b[0m in \u001b[0;36m<module>\u001b[0;34m\u001b[0m\n",
      "\u001b[0;32m----> 1\u001b[0;31m \u001b[0mmat\u001b[0m\u001b[0;34m.\u001b[0m\u001b[0mreshape\u001b[0m\u001b[0;34m(\u001b[0m\u001b[0;36m30\u001b[0m\u001b[0;34m,\u001b[0m \u001b[0;36m5\u001b[0m\u001b[0;34m)\u001b[0m\u001b[0;34m\u001b[0m\u001b[0;34m\u001b[0m\u001b[0m\n",
      "\u001b[0m\n",
      "\u001b[0;31mValueError\u001b[0m: cannot reshape array of size 200 into shape (30,5)\n"
     ]
    }
   ],
   "source": [
    "%%expect_exception ValueError\n",
    "\n",
    "mat.reshape(30, 5)"
   ]
  },
  {
   "cell_type": "code",
   "execution_count": 41,
   "metadata": {},
   "outputs": [
    {
     "data": {
      "text/plain": [
       "(200,)"
      ]
     },
     "execution_count": 41,
     "metadata": {},
     "output_type": "execute_result"
    }
   ],
   "source": [
    "mat.ravel().shape"
   ]
  },
  {
   "cell_type": "code",
   "execution_count": 42,
   "metadata": {},
   "outputs": [
    {
     "data": {
      "text/plain": [
       "(10, 20)"
      ]
     },
     "execution_count": 42,
     "metadata": {},
     "output_type": "execute_result"
    }
   ],
   "source": [
    "mat.transpose().shape"
   ]
  },
  {
   "cell_type": "markdown",
   "metadata": {},
   "source": [
    "### Combining arrays"
   ]
  },
  {
   "cell_type": "code",
   "execution_count": 43,
   "metadata": {},
   "outputs": [
    {
     "name": "stdout",
     "output_type": "stream",
     "text": [
      "[1 2 3 4 5]\n",
      "[2 3 4 5 6]\n"
     ]
    }
   ],
   "source": [
    "print(a)\n",
    "print(b)"
   ]
  },
  {
   "cell_type": "code",
   "execution_count": 44,
   "metadata": {},
   "outputs": [
    {
     "data": {
      "text/plain": [
       "array([1, 2, 3, 4, 5, 2, 3, 4, 5, 6])"
      ]
     },
     "execution_count": 44,
     "metadata": {},
     "output_type": "execute_result"
    }
   ],
   "source": [
    "np.hstack((a, b)) #Horizontal Stack "
   ]
  },
  {
   "cell_type": "code",
   "execution_count": 45,
   "metadata": {},
   "outputs": [
    {
     "data": {
      "text/plain": [
       "array([[1, 2, 3, 4, 5],\n",
       "       [2, 3, 4, 5, 6]])"
      ]
     },
     "execution_count": 45,
     "metadata": {},
     "output_type": "execute_result"
    }
   ],
   "source": [
    "np.vstack((a, b)) #Vertical Stack"
   ]
  },
  {
   "cell_type": "code",
   "execution_count": 46,
   "metadata": {},
   "outputs": [
    {
     "data": {
      "text/plain": [
       "array([[[1, 2],\n",
       "        [2, 3],\n",
       "        [3, 4],\n",
       "        [4, 5],\n",
       "        [5, 6]]])"
      ]
     },
     "execution_count": 46,
     "metadata": {},
     "output_type": "execute_result"
    }
   ],
   "source": [
    "np.dstack((a, b)) #Depth-WiseStack"
   ]
  },
  {
   "cell_type": "code",
   "execution_count": 47,
   "metadata": {},
   "outputs": [
    {
     "data": {
      "text/plain": [
       "array([[1, 2],\n",
       "       [2, 3],\n",
       "       [3, 4],\n",
       "       [4, 5],\n",
       "       [5, 6]])"
      ]
     },
     "execution_count": 47,
     "metadata": {},
     "output_type": "execute_result"
    }
   ],
   "source": [
    "# Row Wise Stacking\n",
    "np.stack((a,b),axis=1)"
   ]
  },
  {
   "cell_type": "markdown",
   "metadata": {},
   "source": [
    "### Basic data aggregation\n",
    "\n",
    "Let's explore some more examples of using arrays, this time using NumPy's `random` submodule to create some \"fake data\". Simulating data is useful for testing and prototyping new techniques or code, and some algorithms even require random input."
   ]
  },
  {
   "cell_type": "code",
   "execution_count": 48,
   "metadata": {},
   "outputs": [
    {
     "name": "stdout",
     "output_type": "stream",
     "text": [
      "[[127 117  39 131  96  45 127]\n",
      " [146  99 112 141 124 128 176]\n",
      " [155 174  77  26 112 182  62]\n",
      " [154  45 185  82  46 113  73]]\n"
     ]
    }
   ],
   "source": [
    "np.random.seed(42)\n",
    "jan_coffee_sales = np.random.randint(25, 200, size=(4, 7)) \n",
    "# np.random.randint(lower,upper,size=(rows,columns))\n",
    "print(jan_coffee_sales)"
   ]
  },
  {
   "cell_type": "code",
   "execution_count": 49,
   "metadata": {},
   "outputs": [
    {
     "name": "stdout",
     "output_type": "stream",
     "text": [
      "Mean coffees sold per day in January: 110\n"
     ]
    }
   ],
   "source": [
    "# mean sales\n",
    "print('Mean coffees sold per day in January: %d' % jan_coffee_sales.mean())"
   ]
  },
  {
   "cell_type": "code",
   "execution_count": 50,
   "metadata": {},
   "outputs": [
    {
     "data": {
      "text/plain": [
       "array([[127, 117,  39],\n",
       "       [146,  99, 112]])"
      ]
     },
     "execution_count": 50,
     "metadata": {},
     "output_type": "execute_result"
    }
   ],
   "source": [
    "jan_coffee_sales[1, :] #Row 1 and All Columns\n",
    "jan_coffee_sales[2, :1] #Row 2 and 1st Value\n",
    "jan_coffee_sales[:, :1] #All rows and 1st Columns\n",
    "jan_coffee_sales[:2, :3] #1st and 2nd Row and 3 columns\n"
   ]
  },
  {
   "cell_type": "code",
   "execution_count": 51,
   "metadata": {},
   "outputs": [
    {
     "name": "stdout",
     "output_type": "stream",
     "text": [
      "Mean coffees sold on Monday in January: 108\n"
     ]
    }
   ],
   "source": [
    "# mean sales for Monday\n",
    "print('Mean coffees sold on Monday in January: %d' % jan_coffee_sales[:, 1].mean())"
   ]
  },
  {
   "cell_type": "code",
   "execution_count": 52,
   "metadata": {},
   "outputs": [
    {
     "name": "stdout",
     "output_type": "stream",
     "text": [
      "Day with highest sales was January 24\n"
     ]
    }
   ],
   "source": [
    "# day with most sales\n",
    "# remember we count dates from 1, not 0!\n",
    "print('Day with highest sales was January %d' % (jan_coffee_sales.argmax() + 1))"
   ]
  },
  {
   "cell_type": "code",
   "execution_count": 53,
   "metadata": {},
   "outputs": [
    {
     "data": {
      "text/plain": [
       "[(Fraction(0, 1), 4.930380657631324e-32),\n",
       " (Fraction(1, 28), 11.81850804066758),\n",
       " (Fraction(1, 14), 3.0624177128282795),\n",
       " (Fraction(3, 28), 3.6145035763808577),\n",
       " (Fraction(1, 7), 8.992489334676053),\n",
       " (Fraction(5, 28), 3.689054592513946),\n",
       " (Fraction(3, 14), 8.363267066546037),\n",
       " (Fraction(1, 4), 16.615944819859244),\n",
       " (Fraction(2, 7), 0.6736105397207648),\n",
       " (Fraction(9, 28), 6.846412421396466),\n",
       " (Fraction(5, 14), 14.279717692527935),\n",
       " (Fraction(11, 28), 17.951272090034657),\n",
       " (Fraction(3, 7), 4.608890497088778),\n",
       " (Fraction(13, 28), 6.579601542582696)]"
      ]
     },
     "execution_count": 53,
     "metadata": {},
     "output_type": "execute_result"
    }
   ],
   "source": [
    "# is there a weekly periodicity?\n",
    "from fractions import Fraction\n",
    "\n",
    "normalized_sales = (jan_coffee_sales - jan_coffee_sales.mean()) / abs(jan_coffee_sales - jan_coffee_sales.mean()).max()\n",
    "frequencies = [Fraction.from_float(f).limit_denominator() for f in np.fft.fftfreq(normalized_sales.size)]\n",
    "power = np.abs(np.fft.fft(normalized_sales.ravel()))**2\n",
    "list(zip(frequencies, power))[:len(power) // 2]"
   ]
  },
  {
   "cell_type": "code",
   "execution_count": 54,
   "metadata": {},
   "outputs": [
    {
     "data": {
      "text/plain": [
       "array([4, 2, 4, 2, 2, 4, 8, 4, 2, 8, 4, 2, 6, 6, 4, 6, 2, 2, 4, 8, 8, 2,\n",
       "       8, 8, 8, 8, 8, 8, 2, 8, 8, 6, 4, 4, 4, 6, 2, 6])"
      ]
     },
     "execution_count": 54,
     "metadata": {},
     "output_type": "execute_result"
    }
   ],
   "source": [
    "random_arr = np.random.randint(1,10,100)\n",
    "random_arr[random_arr % 2 == 0]"
   ]
  },
  {
   "cell_type": "markdown",
   "metadata": {},
   "source": [
    "Some of the functions we used above do not exist in standard Python and are provided to us by NumPy. Additionally we see that we can use the shape of an array to help us compute statistics on a subset of our data (e.g. mean number of coffees sold on Mondays). But one of the most powerful things we can do to explore data is to simply visualize it."
   ]
  },
  {
   "cell_type": "markdown",
   "metadata": {},
   "source": [
    "## Matplotlib\n",
    "\n",
    "Matplotlib is the most popular Python plotting library. It allows us to visualize data quickly by providing a variety of types of graphs (e.g. bar, scatter, line, etc.). It also provides useful tools for arranging multiple images or image components within a figure, enabling us to build up more complex visualizations as we need to.\n",
    "\n",
    "Let's visualize some data! In the next cells, we'll generate some data. For now we'll be focusing on how the graphs are produced rather than how the data is made."
   ]
  },
  {
   "cell_type": "code",
   "execution_count": 55,
   "metadata": {},
   "outputs": [],
   "source": [
    "import matplotlib.pyplot as plt"
   ]
  },
  {
   "cell_type": "code",
   "execution_count": 56,
   "metadata": {},
   "outputs": [
    {
     "data": {
      "image/png": "[encoded data removed]",
      "text/plain": [
       "<Figure size 432x288 with 1 Axes>"
      ]
     },
     "metadata": {},
     "output_type": "display_data"
    }
   ],
   "source": [
    "def gen_stock_price(days, initial_price):\n",
    "    # stock price grows or shrinks linearly\n",
    "    # not exceeding 10% per year (heuristic)\n",
    "    trend = initial_price * (np.arange(days) * .1 / 365 * np.random.rand() * np.random.choice([1, -1]) + 1)\n",
    "    # noise will be about 2%\n",
    "    noise = .02 * np.random.randn(len(trend)) * trend\n",
    "    return trend + noise\n",
    "\n",
    "days = 365\n",
    "initial_prices = [80, 70, 65]\n",
    "for price in initial_prices:\n",
    "    plt.plot(np.arange(-days, 0), gen_stock_price(days, price))\n",
    "plt.title('Stock price history for last %d days' % days)\n",
    "plt.xlabel('Time (days)')\n",
    "plt.ylabel('Price (USD)')\n",
    "plt.legend(['Company A', 'Company B', 'Company C']);"
   ]
  },
  {
   "cell_type": "code",
   "execution_count": 57,
   "metadata": {},
   "outputs": [
    {
     "data": {
      "image/png": "[encoded data removed]",
      "text/plain": [
       "<Figure size 864x432 with 3 Axes>"
      ]
     },
     "metadata": {},
     "output_type": "display_data"
    }
   ],
   "source": [
    "from scipy.stats import linregress\n",
    "\n",
    "def gen_football_team(n_players, mean_shoe, mean_jersey):\n",
    "    shoe_sizes = np.random.normal(size=n_players, loc=mean_shoe, scale=.15 * mean_shoe)\n",
    "    jersey_sizes = mean_jersey / mean_shoe * shoe_sizes + np.random.normal(size=n_players, scale=.05 * mean_jersey)\n",
    "\n",
    "    return shoe_sizes, jersey_sizes\n",
    "\n",
    "shoes, jerseys = gen_football_team(16, 11, 100)\n",
    "\n",
    "fig = plt.figure(figsize=(12, 6))\n",
    "fig.suptitle('Football team equipment profile')\n",
    "\n",
    "#Create Subplots\n",
    "ax1 = plt.subplot(221)\n",
    "ax2 = plt.subplot(223)\n",
    "ax3 = plt.subplot(122)\n",
    "\n",
    "#Plot The Data\n",
    "ax1.hist(shoes)\n",
    "ax2.hist(jerseys)\n",
    "ax3.scatter(shoes, jerseys, label='Data')\n",
    "fit_line = linregress(shoes, jerseys)\n",
    "ax3.plot(shoes, fit_line[1] + fit_line[0] * shoes, 'r', label='Line of best fit')\n",
    "\n",
    "#Label the Axes\n",
    "ax1.set_xlabel('Shoe size')\n",
    "ax1.set_ylabel('Counts')\n",
    "\n",
    "ax2.set_xlabel('Chest size (cm)')\n",
    "ax2.set_ylabel('Counts')\n",
    "\n",
    "ax3.set_xlabel('Shoe size')\n",
    "ax3.set_ylabel('Chest size (cm)')\n",
    "\n",
    "\n",
    "handles, labels = ax3.get_legend_handles_labels()\n",
    "ax3.legend(handles[::-1], labels[::-1]);"
   ]
  },
  {
   "cell_type": "code",
   "execution_count": 58,
   "metadata": {},
   "outputs": [
    {
     "data": {
      "image/png": "[encoded data removed]",
      "text/plain": [
       "<Figure size 432x288 with 1 Axes>"
      ]
     },
     "metadata": {},
     "output_type": "display_data"
    }
   ],
   "source": [
    "def gen_hourly_temps(days):\n",
    "    ndays = len(days)\n",
    "    seasonality = (-15 * np.cos((np.array(days) - 30) * 2.0 * np.pi / 365)).repeat(24) + 10\n",
    "    solar = -3 * np.cos(np.arange(24 * ndays) * 2.0 * np.pi / 24)\n",
    "    weather = np.interp(range(len(days) * 24), range(0, 24 * len(days), 24 * 2), 3 * np.random.randn(np.ceil(float(len(days)) / 2).astype(int)))\n",
    "    noise = .5 * np.random.randn(24 * len(days))\n",
    "\n",
    "    return seasonality + solar + weather + noise\n",
    "\n",
    "days = np.arange(365)\n",
    "hours = np.arange(days[0] * 24, (days[-1] + 1) * 24)\n",
    "plt.plot(hours, gen_hourly_temps(days))\n",
    "plt.title('Hourly temperatures')\n",
    "plt.xlabel('Time (hours since Jan. 1)')\n",
    "plt.ylabel('Temperature (C)');"
   ]
  },
  {
   "cell_type": "markdown",
   "metadata": {},
   "source": [
    "In the examples above we've made use of the ubiquitous `plot` command, `subplot` for arranging multiple plots in one image, and `hist` for creating histograms. We've also used both the \"state machine\" (i.e. using a sequence of `plt.method` commands) and \"object-oriented\" (i.e. creating figure objects and mutating them) plotting paradigms. The Matplotlib package is very flexible and the possibilities for visualizing data are mostly limited by imagination. A great way to explore Matplotlib and other data visualization packages is by consulting their [gallery pages](https://matplotlib.org/gallery.html)."
   ]
  },
  {
   "cell_type": "markdown",
   "metadata": {},
   "source": [
    "# Pandas\n",
    "\n",
    "NumPy is useful for handling data as it lets us efficiently apply functions to whole data sets or select pieces of them. However, it can be difficult to keep track of related data that might be stored in different arrays, or the meaning of data stored in different rows or columns of the same array.\n",
    "\n",
    "For example, in the previous section we had a 1-dimensional array for shoe sizes, and another 1-dimensional array for jersey sizes. If we wanted to look up the shoe and jersey size for a particular player, we'd have to remember his position in each array.\n",
    "\n",
    "Alternatively, we could combine the two 1-dimensional arrays to make a 2-dimensional array with `n_players` rows and two columns (one for shoe size, one for jersey size). But once we combine the data, we now have to remember which column is shoe size and which column is jersey size.\n",
    "\n",
    "The Pandas package introduces a very powerful tool for working with data in Python: the DataFrame. A DataFrame is a table. Each column represents a different type of data (sometimes called a **field**). The columns are named, so I could have a column called `'shoe_size'` and a column called `'jersey_size'`. I don't have to remember which column is which, because I can refer to them by name. Each row represents a different **record** or **entity** (e.g. player). I can also name the rows, so instead of remembering which row in my array corresponds with Ronaldinho, I can name the row 'Ronaldinho' and look up his shoe size and jersey size by name."
   ]
  },
  {
   "cell_type": "code",
   "execution_count": 79,
   "metadata": {},
   "outputs": [
    {
     "data": {
      "text/html": [
       "<div>\n",
       "<style scoped>\n",
       "    .dataframe tbody tr th:only-of-type {\n",
       "        vertical-align: middle;\n",
       "    }\n",
       "\n",
       "    .dataframe tbody tr th {\n",
       "        vertical-align: top;\n",
       "    }\n",
       "\n",
       "    .dataframe thead th {\n",
       "        text-align: right;\n",
       "    }\n",
       "</style>\n",
       "<table border=\"1\" class=\"dataframe\">\n",
       "  <thead>\n",
       "    <tr style=\"text-align: right;\">\n",
       "      <th></th>\n",
       "      <th>shoe_size</th>\n",
       "      <th>jersey_size</th>\n",
       "    </tr>\n",
       "  </thead>\n",
       "  <tbody>\n",
       "    <tr>\n",
       "      <th>Ronaldinho</th>\n",
       "      <td>6.335282</td>\n",
       "      <td>62.244952</td>\n",
       "    </tr>\n",
       "    <tr>\n",
       "      <th>Pele</th>\n",
       "      <td>9.994207</td>\n",
       "      <td>106.897040</td>\n",
       "    </tr>\n",
       "    <tr>\n",
       "      <th>Lionel Messi</th>\n",
       "      <td>9.141059</td>\n",
       "      <td>92.117992</td>\n",
       "    </tr>\n",
       "    <tr>\n",
       "      <th>Zinedine Zidane</th>\n",
       "      <td>10.218727</td>\n",
       "      <td>108.847431</td>\n",
       "    </tr>\n",
       "    <tr>\n",
       "      <th>Didier Drogba</th>\n",
       "      <td>11.638941</td>\n",
       "      <td>122.621220</td>\n",
       "    </tr>\n",
       "    <tr>\n",
       "      <th>Ronaldo</th>\n",
       "      <td>10.028551</td>\n",
       "      <td>93.912908</td>\n",
       "    </tr>\n",
       "    <tr>\n",
       "      <th>Yaya Toure</th>\n",
       "      <td>9.459261</td>\n",
       "      <td>96.892588</td>\n",
       "    </tr>\n",
       "    <tr>\n",
       "      <th>Frank Rijkaard</th>\n",
       "      <td>7.895093</td>\n",
       "      <td>87.577363</td>\n",
       "    </tr>\n",
       "    <tr>\n",
       "      <th>Diego Maradona</th>\n",
       "      <td>9.836085</td>\n",
       "      <td>93.367599</td>\n",
       "    </tr>\n",
       "    <tr>\n",
       "      <th>Mohamed Aboutrika</th>\n",
       "      <td>11.008417</td>\n",
       "      <td>105.152292</td>\n",
       "    </tr>\n",
       "    <tr>\n",
       "      <th>Samuel Eto'o</th>\n",
       "      <td>8.738368</td>\n",
       "      <td>83.297673</td>\n",
       "    </tr>\n",
       "    <tr>\n",
       "      <th>George Best</th>\n",
       "      <td>6.994990</td>\n",
       "      <td>74.401995</td>\n",
       "    </tr>\n",
       "    <tr>\n",
       "      <th>George Weah</th>\n",
       "      <td>13.411360</td>\n",
       "      <td>135.535531</td>\n",
       "    </tr>\n",
       "    <tr>\n",
       "      <th>Roberto Donadoni</th>\n",
       "      <td>10.502763</td>\n",
       "      <td>95.348771</td>\n",
       "    </tr>\n",
       "  </tbody>\n",
       "</table>\n",
       "</div>"
      ],
      "text/plain": [
       "                   shoe_size  jersey_size\n",
       "Ronaldinho          6.335282    62.244952\n",
       "Pele                9.994207   106.897040\n",
       "Lionel Messi        9.141059    92.117992\n",
       "Zinedine Zidane    10.218727   108.847431\n",
       "Didier Drogba      11.638941   122.621220\n",
       "Ronaldo            10.028551    93.912908\n",
       "Yaya Toure          9.459261    96.892588\n",
       "Frank Rijkaard      7.895093    87.577363\n",
       "Diego Maradona      9.836085    93.367599\n",
       "Mohamed Aboutrika  11.008417   105.152292\n",
       "Samuel Eto'o        8.738368    83.297673\n",
       "George Best         6.994990    74.401995\n",
       "George Weah        13.411360   135.535531\n",
       "Roberto Donadoni   10.502763    95.348771"
      ]
     },
     "execution_count": 79,
     "metadata": {},
     "output_type": "execute_result"
    }
   ],
   "source": [
    "import pandas as pd\n",
    "\n",
    "players = ['Ronaldinho', 'Pele', 'Lionel Messi', 'Zinedine Zidane', 'Didier Drogba', 'Ronaldo', 'Yaya Toure', \n",
    "           'Frank Rijkaard', 'Diego Maradona', 'Mohamed Aboutrika', \"Samuel Eto'o\", 'George Best', 'George Weah', \n",
    "           'Roberto Donadoni']\n",
    "shoes, jerseys = gen_football_team(len(players), 10, 100)\n",
    "\n",
    "df = pd.DataFrame({'shoe_size': shoes, 'jersey_size': jerseys}, index = players)\n",
    "\n",
    "df"
   ]
  },
  {
   "cell_type": "code",
   "execution_count": 80,
   "metadata": {},
   "outputs": [
    {
     "data": {
      "text/html": [
       "<div>\n",
       "<style scoped>\n",
       "    .dataframe tbody tr th:only-of-type {\n",
       "        vertical-align: middle;\n",
       "    }\n",
       "\n",
       "    .dataframe tbody tr th {\n",
       "        vertical-align: top;\n",
       "    }\n",
       "\n",
       "    .dataframe thead th {\n",
       "        text-align: right;\n",
       "    }\n",
       "</style>\n",
       "<table border=\"1\" class=\"dataframe\">\n",
       "  <thead>\n",
       "    <tr style=\"text-align: right;\">\n",
       "      <th></th>\n",
       "      <th>shoe_size</th>\n",
       "      <th>jersey_size</th>\n",
       "    </tr>\n",
       "  </thead>\n",
       "  <tbody>\n",
       "    <tr>\n",
       "      <th>Ronaldinho</th>\n",
       "      <td>6.335282</td>\n",
       "      <td>62.244952</td>\n",
       "    </tr>\n",
       "    <tr>\n",
       "      <th>Pele</th>\n",
       "      <td>9.994207</td>\n",
       "      <td>106.897040</td>\n",
       "    </tr>\n",
       "    <tr>\n",
       "      <th>Lionel Messi</th>\n",
       "      <td>9.141059</td>\n",
       "      <td>92.117992</td>\n",
       "    </tr>\n",
       "    <tr>\n",
       "      <th>Zinedine Zidane</th>\n",
       "      <td>10.218727</td>\n",
       "      <td>108.847431</td>\n",
       "    </tr>\n",
       "    <tr>\n",
       "      <th>Didier Drogba</th>\n",
       "      <td>11.638941</td>\n",
       "      <td>122.621220</td>\n",
       "    </tr>\n",
       "    <tr>\n",
       "      <th>Ronaldo</th>\n",
       "      <td>10.028551</td>\n",
       "      <td>93.912908</td>\n",
       "    </tr>\n",
       "    <tr>\n",
       "      <th>Yaya Toure</th>\n",
       "      <td>9.459261</td>\n",
       "      <td>96.892588</td>\n",
       "    </tr>\n",
       "    <tr>\n",
       "      <th>Frank Rijkaard</th>\n",
       "      <td>7.895093</td>\n",
       "      <td>87.577363</td>\n",
       "    </tr>\n",
       "    <tr>\n",
       "      <th>Diego Maradona</th>\n",
       "      <td>9.836085</td>\n",
       "      <td>93.367599</td>\n",
       "    </tr>\n",
       "    <tr>\n",
       "      <th>Mohamed Aboutrika</th>\n",
       "      <td>11.008417</td>\n",
       "      <td>105.152292</td>\n",
       "    </tr>\n",
       "    <tr>\n",
       "      <th>Samuel Eto'o</th>\n",
       "      <td>8.738368</td>\n",
       "      <td>83.297673</td>\n",
       "    </tr>\n",
       "    <tr>\n",
       "      <th>George Best</th>\n",
       "      <td>6.994990</td>\n",
       "      <td>74.401995</td>\n",
       "    </tr>\n",
       "    <tr>\n",
       "      <th>George Weah</th>\n",
       "      <td>13.411360</td>\n",
       "      <td>135.535531</td>\n",
       "    </tr>\n",
       "    <tr>\n",
       "      <th>Roberto Donadoni</th>\n",
       "      <td>10.502763</td>\n",
       "      <td>95.348771</td>\n",
       "    </tr>\n",
       "  </tbody>\n",
       "</table>\n",
       "</div>"
      ],
      "text/plain": [
       "                   shoe_size  jersey_size\n",
       "Ronaldinho          6.335282    62.244952\n",
       "Pele                9.994207   106.897040\n",
       "Lionel Messi        9.141059    92.117992\n",
       "Zinedine Zidane    10.218727   108.847431\n",
       "Didier Drogba      11.638941   122.621220\n",
       "Ronaldo            10.028551    93.912908\n",
       "Yaya Toure          9.459261    96.892588\n",
       "Frank Rijkaard      7.895093    87.577363\n",
       "Diego Maradona      9.836085    93.367599\n",
       "Mohamed Aboutrika  11.008417   105.152292\n",
       "Samuel Eto'o        8.738368    83.297673\n",
       "George Best         6.994990    74.401995\n",
       "George Weah        13.411360   135.535531\n",
       "Roberto Donadoni   10.502763    95.348771"
      ]
     },
     "execution_count": 80,
     "metadata": {},
     "output_type": "execute_result"
    }
   ],
   "source": [
    "# we can also make a dataframe using zip\n",
    "\n",
    "df = pd.DataFrame(list(zip(shoes, jerseys)), columns = ['shoe_size', 'jersey_size'], index = players)\n",
    "\n",
    "df"
   ]
  },
  {
   "cell_type": "markdown",
   "metadata": {},
   "source": [
    "The DataFrame has similarities to both a `dict` and a NumPy `ndarray`. For example, we can retrieve a column from the DataFrame by using its name, just like we would retrieve an item from a `dict` using its key."
   ]
  },
  {
   "cell_type": "code",
   "execution_count": 81,
   "metadata": {},
   "outputs": [
    {
     "name": "stdout",
     "output_type": "stream",
     "text": [
      "Ronaldinho            6.335282\n",
      "Pele                  9.994207\n",
      "Lionel Messi          9.141059\n",
      "Zinedine Zidane      10.218727\n",
      "Didier Drogba        11.638941\n",
      "Ronaldo              10.028551\n",
      "Yaya Toure            9.459261\n",
      "Frank Rijkaard        7.895093\n",
      "Diego Maradona        9.836085\n",
      "Mohamed Aboutrika    11.008417\n",
      "Samuel Eto'o          8.738368\n",
      "George Best           6.994990\n",
      "George Weah          13.411360\n",
      "Roberto Donadoni     10.502763\n",
      "Name: shoe_size, dtype: float64\n"
     ]
    }
   ],
   "source": [
    "print(df['shoe_size'])"
   ]
  },
  {
   "cell_type": "markdown",
   "metadata": {},
   "source": [
    "And we can easily apply functions to the DataFrame, just like we would with a NumPy array."
   ]
  },
  {
   "cell_type": "code",
   "execution_count": 82,
   "metadata": {},
   "outputs": [
    {
     "name": "stdout",
     "output_type": "stream",
     "text": [
      "                   shoe_size  jersey_size\n",
      "Ronaldinho          1.846134     4.131077\n",
      "Pele                2.302006     4.671866\n",
      "Lionel Messi        2.212776     4.523070\n",
      "Zinedine Zidane     2.324222     4.689947\n",
      "Didier Drogba       2.454356     4.809100\n",
      "Ronaldo             2.305436     4.542368\n",
      "Yaya Toure          2.246994     4.573603\n",
      "Frank Rijkaard      2.066241     4.472523\n",
      "Diego Maradona      2.286058     4.536544\n",
      "Mohamed Aboutrika   2.398660     4.655410\n",
      "Samuel Eto'o        2.167723     4.422421\n",
      "George Best         1.945194     4.309483\n",
      "George Weah         2.596102     4.909234\n",
      "Roberto Donadoni    2.351638     4.557541\n"
     ]
    }
   ],
   "source": [
    "print(np.log(df))"
   ]
  },
  {
   "cell_type": "code",
   "execution_count": 83,
   "metadata": {},
   "outputs": [
    {
     "data": {
      "text/plain": [
       "shoe_size       9.657365\n",
       "jersey_size    97.015382\n",
       "dtype: float64"
      ]
     },
     "execution_count": 83,
     "metadata": {},
     "output_type": "execute_result"
    }
   ],
   "source": [
    "df.mean()"
   ]
  },
  {
   "cell_type": "markdown",
   "metadata": {},
   "source": [
    "We'll explore applying functions and analyzing data in a DataFrame in more depth later on. First we need to know how to retrieve, add, and remove data from a DataFrame.\n",
    "\n",
    "We've already seen how to retrieve a column, what about retrieving a row? The most flexible syntax is to use the DataFrame's `loc` method."
   ]
  },
  {
   "cell_type": "code",
   "execution_count": 84,
   "metadata": {},
   "outputs": [
    {
     "name": "stdout",
     "output_type": "stream",
     "text": [
      "shoe_size      10.028551\n",
      "jersey_size    93.912908\n",
      "Name: Ronaldo, dtype: float64\n"
     ]
    }
   ],
   "source": [
    "print(df.loc['Ronaldo'])"
   ]
  },
  {
   "cell_type": "code",
   "execution_count": 85,
   "metadata": {},
   "outputs": [
    {
     "name": "stdout",
     "output_type": "stream",
     "text": [
      "Ronaldo        10.028551\n",
      "George Best     6.994990\n",
      "Name: shoe_size, dtype: float64\n"
     ]
    }
   ],
   "source": [
    "print(df.loc[['Ronaldo', 'George Best'], 'shoe_size'])"
   ]
  },
  {
   "cell_type": "code",
   "execution_count": 86,
   "metadata": {},
   "outputs": [
    {
     "name": "stdout",
     "output_type": "stream",
     "text": [
      "Ronaldo              10.028551\n",
      "Yaya Toure            9.459261\n",
      "Frank Rijkaard        7.895093\n",
      "Diego Maradona        9.836085\n",
      "Mohamed Aboutrika    11.008417\n",
      "Samuel Eto'o          8.738368\n",
      "George Best           6.994990\n",
      "Name: shoe_size, dtype: float64\n"
     ]
    }
   ],
   "source": [
    "# can also select position-based slices of data\n",
    "print(df.loc['Ronaldo':'George Best', 'shoe_size'])"
   ]
  },
  {
   "cell_type": "code",
   "execution_count": 87,
   "metadata": {},
   "outputs": [
    {
     "name": "stdout",
     "output_type": "stream",
     "text": [
      "                 shoe_size  jersey_size\n",
      "Ronaldinho        6.335282    62.244952\n",
      "Pele              9.994207   106.897040\n",
      "Lionel Messi      9.141059    92.117992\n",
      "Zinedine Zidane  10.218727   108.847431\n",
      "Didier Drogba    11.638941   122.621220\n"
     ]
    }
   ],
   "source": [
    "# for position-based indexing, we will typically use iloc\n",
    "print(df.iloc[:5])"
   ]
  },
  {
   "cell_type": "code",
   "execution_count": 88,
   "metadata": {},
   "outputs": [
    {
     "name": "stdout",
     "output_type": "stream",
     "text": [
      "Lionel Messi        9.141059\n",
      "Zinedine Zidane    10.218727\n",
      "Name: shoe_size, dtype: float64\n"
     ]
    }
   ],
   "source": [
    "print(df.iloc[2:4, 0])"
   ]
  },
  {
   "cell_type": "code",
   "execution_count": 89,
   "metadata": {},
   "outputs": [
    {
     "data": {
      "text/html": [
       "<div>\n",
       "<style scoped>\n",
       "    .dataframe tbody tr th:only-of-type {\n",
       "        vertical-align: middle;\n",
       "    }\n",
       "\n",
       "    .dataframe tbody tr th {\n",
       "        vertical-align: top;\n",
       "    }\n",
       "\n",
       "    .dataframe thead th {\n",
       "        text-align: right;\n",
       "    }\n",
       "</style>\n",
       "<table border=\"1\" class=\"dataframe\">\n",
       "  <thead>\n",
       "    <tr style=\"text-align: right;\">\n",
       "      <th></th>\n",
       "      <th>shoe_size</th>\n",
       "      <th>jersey_size</th>\n",
       "    </tr>\n",
       "  </thead>\n",
       "  <tbody>\n",
       "    <tr>\n",
       "      <th>Ronaldinho</th>\n",
       "      <td>6.335282</td>\n",
       "      <td>62.244952</td>\n",
       "    </tr>\n",
       "    <tr>\n",
       "      <th>Pele</th>\n",
       "      <td>9.994207</td>\n",
       "      <td>106.897040</td>\n",
       "    </tr>\n",
       "    <tr>\n",
       "      <th>Lionel Messi</th>\n",
       "      <td>9.141059</td>\n",
       "      <td>92.117992</td>\n",
       "    </tr>\n",
       "    <tr>\n",
       "      <th>Zinedine Zidane</th>\n",
       "      <td>10.218727</td>\n",
       "      <td>108.847431</td>\n",
       "    </tr>\n",
       "    <tr>\n",
       "      <th>Didier Drogba</th>\n",
       "      <td>11.638941</td>\n",
       "      <td>122.621220</td>\n",
       "    </tr>\n",
       "  </tbody>\n",
       "</table>\n",
       "</div>"
      ],
      "text/plain": [
       "                 shoe_size  jersey_size\n",
       "Ronaldinho        6.335282    62.244952\n",
       "Pele              9.994207   106.897040\n",
       "Lionel Messi      9.141059    92.117992\n",
       "Zinedine Zidane  10.218727   108.847431\n",
       "Didier Drogba    11.638941   122.621220"
      ]
     },
     "execution_count": 89,
     "metadata": {},
     "output_type": "execute_result"
    }
   ],
   "source": [
    "# to see just the top of the DataFrame, use head\n",
    "df.head()"
   ]
  },
  {
   "cell_type": "code",
   "execution_count": 90,
   "metadata": {},
   "outputs": [
    {
     "data": {
      "text/html": [
       "<div>\n",
       "<style scoped>\n",
       "    .dataframe tbody tr th:only-of-type {\n",
       "        vertical-align: middle;\n",
       "    }\n",
       "\n",
       "    .dataframe tbody tr th {\n",
       "        vertical-align: top;\n",
       "    }\n",
       "\n",
       "    .dataframe thead th {\n",
       "        text-align: right;\n",
       "    }\n",
       "</style>\n",
       "<table border=\"1\" class=\"dataframe\">\n",
       "  <thead>\n",
       "    <tr style=\"text-align: right;\">\n",
       "      <th></th>\n",
       "      <th>shoe_size</th>\n",
       "      <th>jersey_size</th>\n",
       "    </tr>\n",
       "  </thead>\n",
       "  <tbody>\n",
       "    <tr>\n",
       "      <th>Mohamed Aboutrika</th>\n",
       "      <td>11.008417</td>\n",
       "      <td>105.152292</td>\n",
       "    </tr>\n",
       "    <tr>\n",
       "      <th>Samuel Eto'o</th>\n",
       "      <td>8.738368</td>\n",
       "      <td>83.297673</td>\n",
       "    </tr>\n",
       "    <tr>\n",
       "      <th>George Best</th>\n",
       "      <td>6.994990</td>\n",
       "      <td>74.401995</td>\n",
       "    </tr>\n",
       "    <tr>\n",
       "      <th>George Weah</th>\n",
       "      <td>13.411360</td>\n",
       "      <td>135.535531</td>\n",
       "    </tr>\n",
       "    <tr>\n",
       "      <th>Roberto Donadoni</th>\n",
       "      <td>10.502763</td>\n",
       "      <td>95.348771</td>\n",
       "    </tr>\n",
       "  </tbody>\n",
       "</table>\n",
       "</div>"
      ],
      "text/plain": [
       "                   shoe_size  jersey_size\n",
       "Mohamed Aboutrika  11.008417   105.152292\n",
       "Samuel Eto'o        8.738368    83.297673\n",
       "George Best         6.994990    74.401995\n",
       "George Weah        13.411360   135.535531\n",
       "Roberto Donadoni   10.502763    95.348771"
      ]
     },
     "execution_count": 90,
     "metadata": {},
     "output_type": "execute_result"
    }
   ],
   "source": [
    "# of for the bottom use tail\n",
    "df.tail()"
   ]
  },
  {
   "cell_type": "markdown",
   "metadata": {},
   "source": [
    "Just as with a `dict`, we can add data to our DataFrame by simply using the same syntax as we would use to retrieve data, but matching it with an assignment."
   ]
  },
  {
   "cell_type": "code",
   "execution_count": 91,
   "metadata": {},
   "outputs": [
    {
     "data": {
      "text/html": [
       "<div>\n",
       "<style scoped>\n",
       "    .dataframe tbody tr th:only-of-type {\n",
       "        vertical-align: middle;\n",
       "    }\n",
       "\n",
       "    .dataframe tbody tr th {\n",
       "        vertical-align: top;\n",
       "    }\n",
       "\n",
       "    .dataframe thead th {\n",
       "        text-align: right;\n",
       "    }\n",
       "</style>\n",
       "<table border=\"1\" class=\"dataframe\">\n",
       "  <thead>\n",
       "    <tr style=\"text-align: right;\">\n",
       "      <th></th>\n",
       "      <th>shoe_size</th>\n",
       "      <th>jersey_size</th>\n",
       "      <th>position</th>\n",
       "    </tr>\n",
       "  </thead>\n",
       "  <tbody>\n",
       "    <tr>\n",
       "      <th>Ronaldinho</th>\n",
       "      <td>6.335282</td>\n",
       "      <td>62.244952</td>\n",
       "      <td>attack</td>\n",
       "    </tr>\n",
       "    <tr>\n",
       "      <th>Pele</th>\n",
       "      <td>9.994207</td>\n",
       "      <td>106.897040</td>\n",
       "      <td>goaltender</td>\n",
       "    </tr>\n",
       "    <tr>\n",
       "      <th>Lionel Messi</th>\n",
       "      <td>9.141059</td>\n",
       "      <td>92.117992</td>\n",
       "      <td>goaltender</td>\n",
       "    </tr>\n",
       "    <tr>\n",
       "      <th>Zinedine Zidane</th>\n",
       "      <td>10.218727</td>\n",
       "      <td>108.847431</td>\n",
       "      <td>attack</td>\n",
       "    </tr>\n",
       "    <tr>\n",
       "      <th>Didier Drogba</th>\n",
       "      <td>11.638941</td>\n",
       "      <td>122.621220</td>\n",
       "      <td>midfield</td>\n",
       "    </tr>\n",
       "  </tbody>\n",
       "</table>\n",
       "</div>"
      ],
      "text/plain": [
       "                 shoe_size  jersey_size    position\n",
       "Ronaldinho        6.335282    62.244952      attack\n",
       "Pele              9.994207   106.897040  goaltender\n",
       "Lionel Messi      9.141059    92.117992  goaltender\n",
       "Zinedine Zidane  10.218727   108.847431      attack\n",
       "Didier Drogba    11.638941   122.621220    midfield"
      ]
     },
     "execution_count": 91,
     "metadata": {},
     "output_type": "execute_result"
    }
   ],
   "source": [
    "# adding a new column\n",
    "df['position'] = np.random.choice(['goaltender', 'defense', 'midfield', 'attack'], size=len(df))\n",
    "df.head()"
   ]
  },
  {
   "cell_type": "code",
   "execution_count": 92,
   "metadata": {},
   "outputs": [
    {
     "data": {
      "text/plain": [
       "shoe_size             9\n",
       "jersey_size          91\n",
       "position       midfield\n",
       "Name: Dylan, dtype: object"
      ]
     },
     "execution_count": 92,
     "metadata": {},
     "output_type": "execute_result"
    }
   ],
   "source": [
    "# adding a new row\n",
    "df.loc['Dylan'] = {'jersey_size': 91, 'shoe_size': 9, 'position': 'midfield'}\n",
    "df.loc['Dylan']"
   ]
  },
  {
   "cell_type": "code",
   "execution_count": 94,
   "metadata": {},
   "outputs": [
    {
     "data": {
      "text/html": [
       "<div>\n",
       "<style scoped>\n",
       "    .dataframe tbody tr th:only-of-type {\n",
       "        vertical-align: middle;\n",
       "    }\n",
       "\n",
       "    .dataframe tbody tr th {\n",
       "        vertical-align: top;\n",
       "    }\n",
       "\n",
       "    .dataframe thead th {\n",
       "        text-align: right;\n",
       "    }\n",
       "</style>\n",
       "<table border=\"1\" class=\"dataframe\">\n",
       "  <thead>\n",
       "    <tr style=\"text-align: right;\">\n",
       "      <th></th>\n",
       "      <th>shoe_size</th>\n",
       "      <th>jersey_size</th>\n",
       "      <th>position</th>\n",
       "    </tr>\n",
       "  </thead>\n",
       "  <tbody>\n",
       "    <tr>\n",
       "      <th>Ronaldinho</th>\n",
       "      <td>6.335282</td>\n",
       "      <td>62.244952</td>\n",
       "      <td>attack</td>\n",
       "    </tr>\n",
       "    <tr>\n",
       "      <th>Pele</th>\n",
       "      <td>9.994207</td>\n",
       "      <td>106.897040</td>\n",
       "      <td>goaltender</td>\n",
       "    </tr>\n",
       "    <tr>\n",
       "      <th>Lionel Messi</th>\n",
       "      <td>9.141059</td>\n",
       "      <td>92.117992</td>\n",
       "      <td>goaltender</td>\n",
       "    </tr>\n",
       "    <tr>\n",
       "      <th>Zinedine Zidane</th>\n",
       "      <td>10.218727</td>\n",
       "      <td>108.847431</td>\n",
       "      <td>attack</td>\n",
       "    </tr>\n",
       "    <tr>\n",
       "      <th>Didier Drogba</th>\n",
       "      <td>11.638941</td>\n",
       "      <td>122.621220</td>\n",
       "      <td>midfield</td>\n",
       "    </tr>\n",
       "    <tr>\n",
       "      <th>Ronaldo</th>\n",
       "      <td>10.028551</td>\n",
       "      <td>93.912908</td>\n",
       "      <td>goaltender</td>\n",
       "    </tr>\n",
       "    <tr>\n",
       "      <th>Yaya Toure</th>\n",
       "      <td>9.459261</td>\n",
       "      <td>96.892588</td>\n",
       "      <td>attack</td>\n",
       "    </tr>\n",
       "    <tr>\n",
       "      <th>Frank Rijkaard</th>\n",
       "      <td>7.895093</td>\n",
       "      <td>87.577363</td>\n",
       "      <td>defense</td>\n",
       "    </tr>\n",
       "    <tr>\n",
       "      <th>Diego Maradona</th>\n",
       "      <td>9.836085</td>\n",
       "      <td>93.367599</td>\n",
       "      <td>defense</td>\n",
       "    </tr>\n",
       "    <tr>\n",
       "      <th>Mohamed Aboutrika</th>\n",
       "      <td>11.008417</td>\n",
       "      <td>105.152292</td>\n",
       "      <td>attack</td>\n",
       "    </tr>\n",
       "    <tr>\n",
       "      <th>Samuel Eto'o</th>\n",
       "      <td>8.738368</td>\n",
       "      <td>83.297673</td>\n",
       "      <td>goaltender</td>\n",
       "    </tr>\n",
       "    <tr>\n",
       "      <th>George Best</th>\n",
       "      <td>6.994990</td>\n",
       "      <td>74.401995</td>\n",
       "      <td>attack</td>\n",
       "    </tr>\n",
       "    <tr>\n",
       "      <th>George Weah</th>\n",
       "      <td>13.411360</td>\n",
       "      <td>135.535531</td>\n",
       "      <td>attack</td>\n",
       "    </tr>\n",
       "    <tr>\n",
       "      <th>Roberto Donadoni</th>\n",
       "      <td>10.502763</td>\n",
       "      <td>95.348771</td>\n",
       "      <td>goaltender</td>\n",
       "    </tr>\n",
       "    <tr>\n",
       "      <th>Dylan</th>\n",
       "      <td>9.000000</td>\n",
       "      <td>91.000000</td>\n",
       "      <td>midfield</td>\n",
       "    </tr>\n",
       "  </tbody>\n",
       "</table>\n",
       "</div>"
      ],
      "text/plain": [
       "                   shoe_size  jersey_size    position\n",
       "Ronaldinho          6.335282    62.244952      attack\n",
       "Pele                9.994207   106.897040  goaltender\n",
       "Lionel Messi        9.141059    92.117992  goaltender\n",
       "Zinedine Zidane    10.218727   108.847431      attack\n",
       "Didier Drogba      11.638941   122.621220    midfield\n",
       "Ronaldo            10.028551    93.912908  goaltender\n",
       "Yaya Toure          9.459261    96.892588      attack\n",
       "Frank Rijkaard      7.895093    87.577363     defense\n",
       "Diego Maradona      9.836085    93.367599     defense\n",
       "Mohamed Aboutrika  11.008417   105.152292      attack\n",
       "Samuel Eto'o        8.738368    83.297673  goaltender\n",
       "George Best         6.994990    74.401995      attack\n",
       "George Weah        13.411360   135.535531      attack\n",
       "Roberto Donadoni   10.502763    95.348771  goaltender\n",
       "Dylan               9.000000    91.000000    midfield"
      ]
     },
     "execution_count": 94,
     "metadata": {},
     "output_type": "execute_result"
    }
   ],
   "source": [
    "df"
   ]
  },
  {
   "cell_type": "markdown",
   "metadata": {},
   "source": [
    "To delete data, we can use the DataFrame's `drop` method."
   ]
  },
  {
   "cell_type": "code",
   "execution_count": 95,
   "metadata": {},
   "outputs": [
    {
     "data": {
      "text/html": [
       "<div>\n",
       "<style scoped>\n",
       "    .dataframe tbody tr th:only-of-type {\n",
       "        vertical-align: middle;\n",
       "    }\n",
       "\n",
       "    .dataframe tbody tr th {\n",
       "        vertical-align: top;\n",
       "    }\n",
       "\n",
       "    .dataframe thead th {\n",
       "        text-align: right;\n",
       "    }\n",
       "</style>\n",
       "<table border=\"1\" class=\"dataframe\">\n",
       "  <thead>\n",
       "    <tr style=\"text-align: right;\">\n",
       "      <th></th>\n",
       "      <th>shoe_size</th>\n",
       "      <th>jersey_size</th>\n",
       "      <th>position</th>\n",
       "    </tr>\n",
       "  </thead>\n",
       "  <tbody>\n",
       "    <tr>\n",
       "      <th>Ronaldinho</th>\n",
       "      <td>6.335282</td>\n",
       "      <td>62.244952</td>\n",
       "      <td>attack</td>\n",
       "    </tr>\n",
       "    <tr>\n",
       "      <th>Pele</th>\n",
       "      <td>9.994207</td>\n",
       "      <td>106.897040</td>\n",
       "      <td>goaltender</td>\n",
       "    </tr>\n",
       "    <tr>\n",
       "      <th>Lionel Messi</th>\n",
       "      <td>9.141059</td>\n",
       "      <td>92.117992</td>\n",
       "      <td>goaltender</td>\n",
       "    </tr>\n",
       "    <tr>\n",
       "      <th>Zinedine Zidane</th>\n",
       "      <td>10.218727</td>\n",
       "      <td>108.847431</td>\n",
       "      <td>attack</td>\n",
       "    </tr>\n",
       "    <tr>\n",
       "      <th>Didier Drogba</th>\n",
       "      <td>11.638941</td>\n",
       "      <td>122.621220</td>\n",
       "      <td>midfield</td>\n",
       "    </tr>\n",
       "    <tr>\n",
       "      <th>Ronaldo</th>\n",
       "      <td>10.028551</td>\n",
       "      <td>93.912908</td>\n",
       "      <td>goaltender</td>\n",
       "    </tr>\n",
       "    <tr>\n",
       "      <th>Yaya Toure</th>\n",
       "      <td>9.459261</td>\n",
       "      <td>96.892588</td>\n",
       "      <td>attack</td>\n",
       "    </tr>\n",
       "    <tr>\n",
       "      <th>Frank Rijkaard</th>\n",
       "      <td>7.895093</td>\n",
       "      <td>87.577363</td>\n",
       "      <td>defense</td>\n",
       "    </tr>\n",
       "    <tr>\n",
       "      <th>Diego Maradona</th>\n",
       "      <td>9.836085</td>\n",
       "      <td>93.367599</td>\n",
       "      <td>defense</td>\n",
       "    </tr>\n",
       "    <tr>\n",
       "      <th>Mohamed Aboutrika</th>\n",
       "      <td>11.008417</td>\n",
       "      <td>105.152292</td>\n",
       "      <td>attack</td>\n",
       "    </tr>\n",
       "    <tr>\n",
       "      <th>Samuel Eto'o</th>\n",
       "      <td>8.738368</td>\n",
       "      <td>83.297673</td>\n",
       "      <td>goaltender</td>\n",
       "    </tr>\n",
       "    <tr>\n",
       "      <th>George Best</th>\n",
       "      <td>6.994990</td>\n",
       "      <td>74.401995</td>\n",
       "      <td>attack</td>\n",
       "    </tr>\n",
       "    <tr>\n",
       "      <th>George Weah</th>\n",
       "      <td>13.411360</td>\n",
       "      <td>135.535531</td>\n",
       "      <td>attack</td>\n",
       "    </tr>\n",
       "    <tr>\n",
       "      <th>Roberto Donadoni</th>\n",
       "      <td>10.502763</td>\n",
       "      <td>95.348771</td>\n",
       "      <td>goaltender</td>\n",
       "    </tr>\n",
       "  </tbody>\n",
       "</table>\n",
       "</div>"
      ],
      "text/plain": [
       "                   shoe_size  jersey_size    position\n",
       "Ronaldinho          6.335282    62.244952      attack\n",
       "Pele                9.994207   106.897040  goaltender\n",
       "Lionel Messi        9.141059    92.117992  goaltender\n",
       "Zinedine Zidane    10.218727   108.847431      attack\n",
       "Didier Drogba      11.638941   122.621220    midfield\n",
       "Ronaldo            10.028551    93.912908  goaltender\n",
       "Yaya Toure          9.459261    96.892588      attack\n",
       "Frank Rijkaard      7.895093    87.577363     defense\n",
       "Diego Maradona      9.836085    93.367599     defense\n",
       "Mohamed Aboutrika  11.008417   105.152292      attack\n",
       "Samuel Eto'o        8.738368    83.297673  goaltender\n",
       "George Best         6.994990    74.401995      attack\n",
       "George Weah        13.411360   135.535531      attack\n",
       "Roberto Donadoni   10.502763    95.348771  goaltender"
      ]
     },
     "execution_count": 95,
     "metadata": {},
     "output_type": "execute_result"
    }
   ],
   "source": [
    "df.drop('Dylan')"
   ]
  },
  {
   "cell_type": "code",
   "execution_count": 96,
   "metadata": {},
   "outputs": [
    {
     "data": {
      "text/html": [
       "<div>\n",
       "<style scoped>\n",
       "    .dataframe tbody tr th:only-of-type {\n",
       "        vertical-align: middle;\n",
       "    }\n",
       "\n",
       "    .dataframe tbody tr th {\n",
       "        vertical-align: top;\n",
       "    }\n",
       "\n",
       "    .dataframe thead th {\n",
       "        text-align: right;\n",
       "    }\n",
       "</style>\n",
       "<table border=\"1\" class=\"dataframe\">\n",
       "  <thead>\n",
       "    <tr style=\"text-align: right;\">\n",
       "      <th></th>\n",
       "      <th>shoe_size</th>\n",
       "      <th>jersey_size</th>\n",
       "    </tr>\n",
       "  </thead>\n",
       "  <tbody>\n",
       "    <tr>\n",
       "      <th>Ronaldinho</th>\n",
       "      <td>6.335282</td>\n",
       "      <td>62.244952</td>\n",
       "    </tr>\n",
       "    <tr>\n",
       "      <th>Pele</th>\n",
       "      <td>9.994207</td>\n",
       "      <td>106.897040</td>\n",
       "    </tr>\n",
       "    <tr>\n",
       "      <th>Lionel Messi</th>\n",
       "      <td>9.141059</td>\n",
       "      <td>92.117992</td>\n",
       "    </tr>\n",
       "    <tr>\n",
       "      <th>Zinedine Zidane</th>\n",
       "      <td>10.218727</td>\n",
       "      <td>108.847431</td>\n",
       "    </tr>\n",
       "    <tr>\n",
       "      <th>Didier Drogba</th>\n",
       "      <td>11.638941</td>\n",
       "      <td>122.621220</td>\n",
       "    </tr>\n",
       "    <tr>\n",
       "      <th>Ronaldo</th>\n",
       "      <td>10.028551</td>\n",
       "      <td>93.912908</td>\n",
       "    </tr>\n",
       "    <tr>\n",
       "      <th>Yaya Toure</th>\n",
       "      <td>9.459261</td>\n",
       "      <td>96.892588</td>\n",
       "    </tr>\n",
       "    <tr>\n",
       "      <th>Frank Rijkaard</th>\n",
       "      <td>7.895093</td>\n",
       "      <td>87.577363</td>\n",
       "    </tr>\n",
       "    <tr>\n",
       "      <th>Diego Maradona</th>\n",
       "      <td>9.836085</td>\n",
       "      <td>93.367599</td>\n",
       "    </tr>\n",
       "    <tr>\n",
       "      <th>Mohamed Aboutrika</th>\n",
       "      <td>11.008417</td>\n",
       "      <td>105.152292</td>\n",
       "    </tr>\n",
       "    <tr>\n",
       "      <th>Samuel Eto'o</th>\n",
       "      <td>8.738368</td>\n",
       "      <td>83.297673</td>\n",
       "    </tr>\n",
       "    <tr>\n",
       "      <th>George Best</th>\n",
       "      <td>6.994990</td>\n",
       "      <td>74.401995</td>\n",
       "    </tr>\n",
       "    <tr>\n",
       "      <th>George Weah</th>\n",
       "      <td>13.411360</td>\n",
       "      <td>135.535531</td>\n",
       "    </tr>\n",
       "    <tr>\n",
       "      <th>Roberto Donadoni</th>\n",
       "      <td>10.502763</td>\n",
       "      <td>95.348771</td>\n",
       "    </tr>\n",
       "    <tr>\n",
       "      <th>Dylan</th>\n",
       "      <td>9.000000</td>\n",
       "      <td>91.000000</td>\n",
       "    </tr>\n",
       "  </tbody>\n",
       "</table>\n",
       "</div>"
      ],
      "text/plain": [
       "                   shoe_size  jersey_size\n",
       "Ronaldinho          6.335282    62.244952\n",
       "Pele                9.994207   106.897040\n",
       "Lionel Messi        9.141059    92.117992\n",
       "Zinedine Zidane    10.218727   108.847431\n",
       "Didier Drogba      11.638941   122.621220\n",
       "Ronaldo            10.028551    93.912908\n",
       "Yaya Toure          9.459261    96.892588\n",
       "Frank Rijkaard      7.895093    87.577363\n",
       "Diego Maradona      9.836085    93.367599\n",
       "Mohamed Aboutrika  11.008417   105.152292\n",
       "Samuel Eto'o        8.738368    83.297673\n",
       "George Best         6.994990    74.401995\n",
       "George Weah        13.411360   135.535531\n",
       "Roberto Donadoni   10.502763    95.348771\n",
       "Dylan               9.000000    91.000000"
      ]
     },
     "execution_count": 96,
     "metadata": {},
     "output_type": "execute_result"
    }
   ],
   "source": [
    "df.drop('position', axis=1)"
   ]
  },
  {
   "cell_type": "markdown",
   "metadata": {},
   "source": [
    "Notice when we executed `df.drop('position', axis=1)`, there was an entry for `Dylan` even though we had just executed `df.drop('Dylan')`. We have to be careful when using `drop`; many DataFrame functions return a _copy_ of the DataFrame. In order to make the change permanent, we either need to reassign `df` to the copy returned by `df.drop()` or we have to use the keyword `inplace`."
   ]
  },
  {
   "cell_type": "code",
   "execution_count": 97,
   "metadata": {},
   "outputs": [
    {
     "name": "stdout",
     "output_type": "stream",
     "text": [
      "                   shoe_size  jersey_size    position\n",
      "Ronaldinho          6.335282    62.244952      attack\n",
      "Pele                9.994207   106.897040  goaltender\n",
      "Lionel Messi        9.141059    92.117992  goaltender\n",
      "Zinedine Zidane    10.218727   108.847431      attack\n",
      "Didier Drogba      11.638941   122.621220    midfield\n",
      "Ronaldo            10.028551    93.912908  goaltender\n",
      "Yaya Toure          9.459261    96.892588      attack\n",
      "Frank Rijkaard      7.895093    87.577363     defense\n",
      "Diego Maradona      9.836085    93.367599     defense\n",
      "Mohamed Aboutrika  11.008417   105.152292      attack\n",
      "Samuel Eto'o        8.738368    83.297673  goaltender\n",
      "George Best         6.994990    74.401995      attack\n",
      "George Weah        13.411360   135.535531      attack\n",
      "Roberto Donadoni   10.502763    95.348771  goaltender\n"
     ]
    }
   ],
   "source": [
    "df = df.drop('Dylan')\n",
    "print(df)"
   ]
  },
  {
   "cell_type": "code",
   "execution_count": 99,
   "metadata": {},
   "outputs": [
    {
     "name": "stdout",
     "output_type": "stream",
     "text": [
      "                   shoe_size  jersey_size\n",
      "Ronaldinho          6.335282    62.244952\n",
      "Pele                9.994207   106.897040\n",
      "Lionel Messi        9.141059    92.117992\n",
      "Zinedine Zidane    10.218727   108.847431\n",
      "Didier Drogba      11.638941   122.621220\n",
      "Ronaldo            10.028551    93.912908\n",
      "Yaya Toure          9.459261    96.892588\n",
      "Frank Rijkaard      7.895093    87.577363\n",
      "Diego Maradona      9.836085    93.367599\n",
      "Mohamed Aboutrika  11.008417   105.152292\n",
      "Samuel Eto'o        8.738368    83.297673\n",
      "George Best         6.994990    74.401995\n",
      "George Weah        13.411360   135.535531\n",
      "Roberto Donadoni   10.502763    95.348771\n"
     ]
    }
   ],
   "source": [
    "df.drop('position', axis=1, inplace=True)\n",
    "print(df)"
   ]
  },
  {
   "cell_type": "markdown",
   "metadata": {},
   "source": [
    "We'll explore Pandas in much more detail later in the course, since it has many powerful tools for data analysis. However, even with these tools you can already start to discover patterns in data and draw interesting conclusions."
   ]
  },
  {
   "cell_type": "markdown",
   "metadata": {},
   "source": [
    "*Copyright &copy; 2021 WorldQuant University. This content is licensed solely for personal use. Redistribution or publication of this material is strictly prohibited.*"
   ]
  }
 ],
 "metadata": {
  "kernelspec": {
   "display_name": "Python 3",
   "language": "python",
   "name": "python3"
  },
  "language_info": {
   "codemirror_mode": {
    "name": "ipython",
    "version": 3
   },
   "file_extension": ".py",
   "mimetype": "text/x-python",
   "name": "python",
   "nbconvert_exporter": "python",
   "pygments_lexer": "ipython3",
   "version": "3.8.8"
  },
  "nbclean": true
 },
 "nbformat": 4,
 "nbformat_minor": 1
}
